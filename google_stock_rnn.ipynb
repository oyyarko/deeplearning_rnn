{
  "nbformat": 4,
  "nbformat_minor": 0,
  "metadata": {
    "colab": {
      "name": "google-stock-rnn.ipynb",
      "provenance": [],
      "mount_file_id": "1LW6gA3mFbJmhTNyh_FfCvR3tpRXFraZV",
      "authorship_tag": "ABX9TyPHZBlP8G/VJnIRFP1HDEgk",
      "include_colab_link": true
    },
    "kernelspec": {
      "name": "python3",
      "display_name": "Python 3"
    },
    "accelerator": "GPU"
  },
  "cells": [
    {
      "cell_type": "markdown",
      "metadata": {
        "id": "view-in-github",
        "colab_type": "text"
      },
      "source": [
        "<a href=\"https://colab.research.google.com/github/oyyarko/deeplearning_rnn/blob/master/google_stock_rnn.ipynb\" target=\"_parent\"><img src=\"https://colab.research.google.com/assets/colab-badge.svg\" alt=\"Open In Colab\"/></a>"
      ]
    },
    {
      "cell_type": "markdown",
      "metadata": {
        "id": "uCus5MoZpoem",
        "colab_type": "text"
      },
      "source": [
        "## **Import Libraries**"
      ]
    },
    {
      "cell_type": "code",
      "metadata": {
        "id": "lhNFdhHbp0g5",
        "colab_type": "code",
        "colab": {}
      },
      "source": [
        "import numpy as np\n",
        "import pandas as pd\n",
        "import matplotlib.pyplot as plt\n",
        "from sklearn.preprocessing import MinMaxScaler"
      ],
      "execution_count": 0,
      "outputs": []
    },
    {
      "cell_type": "code",
      "metadata": {
        "id": "eyw_H6TNp9dN",
        "colab_type": "code",
        "colab": {
          "base_uri": "https://localhost:8080/",
          "height": 53
        },
        "outputId": "e5e0310e-b220-4cee-a179-c1bb27061f75"
      },
      "source": [
        "%tensorflow_version 2.x\n",
        "import tensorflow as tf\n",
        "from tensorflow.keras import Sequential\n",
        "from tensorflow.keras.layers import Dense, Dropout, LSTM\n",
        "print(tf.__version__)"
      ],
      "execution_count": 2,
      "outputs": [
        {
          "output_type": "stream",
          "text": [
            "TensorFlow 2.x selected.\n",
            "2.1.0\n"
          ],
          "name": "stdout"
        }
      ]
    },
    {
      "cell_type": "markdown",
      "metadata": {
        "id": "6Ngc8_FbqVMy",
        "colab_type": "text"
      },
      "source": [
        "Loading the data from the drive"
      ]
    },
    {
      "cell_type": "code",
      "metadata": {
        "id": "R6VU0wKwqOST",
        "colab_type": "code",
        "colab": {
          "base_uri": "https://localhost:8080/",
          "height": 206
        },
        "outputId": "6ed151ac-81b2-4ee1-b18c-65cd25432f17"
      },
      "source": [
        "data = pd.read_csv('/content/drive/My Drive/Colab Notebooks/GOOG.csv', date_parser=True)\n",
        "data.tail()"
      ],
      "execution_count": 3,
      "outputs": [
        {
          "output_type": "execute_result",
          "data": {
            "text/html": [
              "<div>\n",
              "<style scoped>\n",
              "    .dataframe tbody tr th:only-of-type {\n",
              "        vertical-align: middle;\n",
              "    }\n",
              "\n",
              "    .dataframe tbody tr th {\n",
              "        vertical-align: top;\n",
              "    }\n",
              "\n",
              "    .dataframe thead th {\n",
              "        text-align: right;\n",
              "    }\n",
              "</style>\n",
              "<table border=\"1\" class=\"dataframe\">\n",
              "  <thead>\n",
              "    <tr style=\"text-align: right;\">\n",
              "      <th></th>\n",
              "      <th>Date</th>\n",
              "      <th>Open</th>\n",
              "      <th>High</th>\n",
              "      <th>Low</th>\n",
              "      <th>Close</th>\n",
              "      <th>Adj Close</th>\n",
              "      <th>Volume</th>\n",
              "    </tr>\n",
              "  </thead>\n",
              "  <tbody>\n",
              "    <tr>\n",
              "      <th>3919</th>\n",
              "      <td>2020-03-16</td>\n",
              "      <td>1096.000000</td>\n",
              "      <td>1152.266968</td>\n",
              "      <td>1074.439941</td>\n",
              "      <td>1084.329956</td>\n",
              "      <td>1084.329956</td>\n",
              "      <td>4252400</td>\n",
              "    </tr>\n",
              "    <tr>\n",
              "      <th>3920</th>\n",
              "      <td>2020-03-17</td>\n",
              "      <td>1093.109985</td>\n",
              "      <td>1130.859985</td>\n",
              "      <td>1056.010010</td>\n",
              "      <td>1119.800049</td>\n",
              "      <td>1119.800049</td>\n",
              "      <td>3861500</td>\n",
              "    </tr>\n",
              "    <tr>\n",
              "      <th>3921</th>\n",
              "      <td>2020-03-18</td>\n",
              "      <td>1056.510010</td>\n",
              "      <td>1106.500000</td>\n",
              "      <td>1037.280029</td>\n",
              "      <td>1096.800049</td>\n",
              "      <td>1096.800049</td>\n",
              "      <td>4233400</td>\n",
              "    </tr>\n",
              "    <tr>\n",
              "      <th>3922</th>\n",
              "      <td>2020-03-19</td>\n",
              "      <td>1093.050049</td>\n",
              "      <td>1157.969971</td>\n",
              "      <td>1060.108032</td>\n",
              "      <td>1115.290039</td>\n",
              "      <td>1115.290039</td>\n",
              "      <td>3651100</td>\n",
              "    </tr>\n",
              "    <tr>\n",
              "      <th>3923</th>\n",
              "      <td>2020-03-20</td>\n",
              "      <td>1135.719971</td>\n",
              "      <td>1143.989990</td>\n",
              "      <td>1065.489990</td>\n",
              "      <td>1072.319946</td>\n",
              "      <td>1072.319946</td>\n",
              "      <td>3600300</td>\n",
              "    </tr>\n",
              "  </tbody>\n",
              "</table>\n",
              "</div>"
            ],
            "text/plain": [
              "            Date         Open         High  ...        Close    Adj Close   Volume\n",
              "3919  2020-03-16  1096.000000  1152.266968  ...  1084.329956  1084.329956  4252400\n",
              "3920  2020-03-17  1093.109985  1130.859985  ...  1119.800049  1119.800049  3861500\n",
              "3921  2020-03-18  1056.510010  1106.500000  ...  1096.800049  1096.800049  4233400\n",
              "3922  2020-03-19  1093.050049  1157.969971  ...  1115.290039  1115.290039  3651100\n",
              "3923  2020-03-20  1135.719971  1143.989990  ...  1072.319946  1072.319946  3600300\n",
              "\n",
              "[5 rows x 7 columns]"
            ]
          },
          "metadata": {
            "tags": []
          },
          "execution_count": 3
        }
      ]
    },
    {
      "cell_type": "code",
      "metadata": {
        "id": "_DUdkSlbqiOQ",
        "colab_type": "code",
        "colab": {
          "base_uri": "https://localhost:8080/",
          "height": 206
        },
        "outputId": "d13fcfbe-3636-4bc0-8d8e-ca7676c69eb2"
      },
      "source": [
        "data_training = data[data['Date']<'2019-09-01'].copy()\n",
        "data_training.tail()"
      ],
      "execution_count": 4,
      "outputs": [
        {
          "output_type": "execute_result",
          "data": {
            "text/html": [
              "<div>\n",
              "<style scoped>\n",
              "    .dataframe tbody tr th:only-of-type {\n",
              "        vertical-align: middle;\n",
              "    }\n",
              "\n",
              "    .dataframe tbody tr th {\n",
              "        vertical-align: top;\n",
              "    }\n",
              "\n",
              "    .dataframe thead th {\n",
              "        text-align: right;\n",
              "    }\n",
              "</style>\n",
              "<table border=\"1\" class=\"dataframe\">\n",
              "  <thead>\n",
              "    <tr style=\"text-align: right;\">\n",
              "      <th></th>\n",
              "      <th>Date</th>\n",
              "      <th>Open</th>\n",
              "      <th>High</th>\n",
              "      <th>Low</th>\n",
              "      <th>Close</th>\n",
              "      <th>Adj Close</th>\n",
              "      <th>Volume</th>\n",
              "    </tr>\n",
              "  </thead>\n",
              "  <tbody>\n",
              "    <tr>\n",
              "      <th>3780</th>\n",
              "      <td>2019-08-26</td>\n",
              "      <td>1157.260010</td>\n",
              "      <td>1169.469971</td>\n",
              "      <td>1152.959961</td>\n",
              "      <td>1168.890015</td>\n",
              "      <td>1168.890015</td>\n",
              "      <td>1226100</td>\n",
              "    </tr>\n",
              "    <tr>\n",
              "      <th>3781</th>\n",
              "      <td>2019-08-27</td>\n",
              "      <td>1180.530029</td>\n",
              "      <td>1182.400024</td>\n",
              "      <td>1161.449951</td>\n",
              "      <td>1167.839966</td>\n",
              "      <td>1167.839966</td>\n",
              "      <td>1077200</td>\n",
              "    </tr>\n",
              "    <tr>\n",
              "      <th>3782</th>\n",
              "      <td>2019-08-28</td>\n",
              "      <td>1161.709961</td>\n",
              "      <td>1176.420044</td>\n",
              "      <td>1157.300049</td>\n",
              "      <td>1171.020020</td>\n",
              "      <td>1171.020020</td>\n",
              "      <td>802000</td>\n",
              "    </tr>\n",
              "    <tr>\n",
              "      <th>3783</th>\n",
              "      <td>2019-08-29</td>\n",
              "      <td>1181.119995</td>\n",
              "      <td>1196.060059</td>\n",
              "      <td>1181.119995</td>\n",
              "      <td>1192.849976</td>\n",
              "      <td>1192.849976</td>\n",
              "      <td>1088400</td>\n",
              "    </tr>\n",
              "    <tr>\n",
              "      <th>3784</th>\n",
              "      <td>2019-08-30</td>\n",
              "      <td>1198.500000</td>\n",
              "      <td>1198.500000</td>\n",
              "      <td>1183.802979</td>\n",
              "      <td>1188.099976</td>\n",
              "      <td>1188.099976</td>\n",
              "      <td>1129800</td>\n",
              "    </tr>\n",
              "  </tbody>\n",
              "</table>\n",
              "</div>"
            ],
            "text/plain": [
              "            Date         Open         High  ...        Close    Adj Close   Volume\n",
              "3780  2019-08-26  1157.260010  1169.469971  ...  1168.890015  1168.890015  1226100\n",
              "3781  2019-08-27  1180.530029  1182.400024  ...  1167.839966  1167.839966  1077200\n",
              "3782  2019-08-28  1161.709961  1176.420044  ...  1171.020020  1171.020020   802000\n",
              "3783  2019-08-29  1181.119995  1196.060059  ...  1192.849976  1192.849976  1088400\n",
              "3784  2019-08-30  1198.500000  1198.500000  ...  1188.099976  1188.099976  1129800\n",
              "\n",
              "[5 rows x 7 columns]"
            ]
          },
          "metadata": {
            "tags": []
          },
          "execution_count": 4
        }
      ]
    },
    {
      "cell_type": "code",
      "metadata": {
        "id": "kpzV5xfIqzBz",
        "colab_type": "code",
        "colab": {
          "base_uri": "https://localhost:8080/",
          "height": 206
        },
        "outputId": "c67de782-78d1-44eb-ba25-0540453cfae6"
      },
      "source": [
        "data_testing = data[data['Date']>='2019-09-01'].copy()\n",
        "data_testing.tail()"
      ],
      "execution_count": 5,
      "outputs": [
        {
          "output_type": "execute_result",
          "data": {
            "text/html": [
              "<div>\n",
              "<style scoped>\n",
              "    .dataframe tbody tr th:only-of-type {\n",
              "        vertical-align: middle;\n",
              "    }\n",
              "\n",
              "    .dataframe tbody tr th {\n",
              "        vertical-align: top;\n",
              "    }\n",
              "\n",
              "    .dataframe thead th {\n",
              "        text-align: right;\n",
              "    }\n",
              "</style>\n",
              "<table border=\"1\" class=\"dataframe\">\n",
              "  <thead>\n",
              "    <tr style=\"text-align: right;\">\n",
              "      <th></th>\n",
              "      <th>Date</th>\n",
              "      <th>Open</th>\n",
              "      <th>High</th>\n",
              "      <th>Low</th>\n",
              "      <th>Close</th>\n",
              "      <th>Adj Close</th>\n",
              "      <th>Volume</th>\n",
              "    </tr>\n",
              "  </thead>\n",
              "  <tbody>\n",
              "    <tr>\n",
              "      <th>3919</th>\n",
              "      <td>2020-03-16</td>\n",
              "      <td>1096.000000</td>\n",
              "      <td>1152.266968</td>\n",
              "      <td>1074.439941</td>\n",
              "      <td>1084.329956</td>\n",
              "      <td>1084.329956</td>\n",
              "      <td>4252400</td>\n",
              "    </tr>\n",
              "    <tr>\n",
              "      <th>3920</th>\n",
              "      <td>2020-03-17</td>\n",
              "      <td>1093.109985</td>\n",
              "      <td>1130.859985</td>\n",
              "      <td>1056.010010</td>\n",
              "      <td>1119.800049</td>\n",
              "      <td>1119.800049</td>\n",
              "      <td>3861500</td>\n",
              "    </tr>\n",
              "    <tr>\n",
              "      <th>3921</th>\n",
              "      <td>2020-03-18</td>\n",
              "      <td>1056.510010</td>\n",
              "      <td>1106.500000</td>\n",
              "      <td>1037.280029</td>\n",
              "      <td>1096.800049</td>\n",
              "      <td>1096.800049</td>\n",
              "      <td>4233400</td>\n",
              "    </tr>\n",
              "    <tr>\n",
              "      <th>3922</th>\n",
              "      <td>2020-03-19</td>\n",
              "      <td>1093.050049</td>\n",
              "      <td>1157.969971</td>\n",
              "      <td>1060.108032</td>\n",
              "      <td>1115.290039</td>\n",
              "      <td>1115.290039</td>\n",
              "      <td>3651100</td>\n",
              "    </tr>\n",
              "    <tr>\n",
              "      <th>3923</th>\n",
              "      <td>2020-03-20</td>\n",
              "      <td>1135.719971</td>\n",
              "      <td>1143.989990</td>\n",
              "      <td>1065.489990</td>\n",
              "      <td>1072.319946</td>\n",
              "      <td>1072.319946</td>\n",
              "      <td>3600300</td>\n",
              "    </tr>\n",
              "  </tbody>\n",
              "</table>\n",
              "</div>"
            ],
            "text/plain": [
              "            Date         Open         High  ...        Close    Adj Close   Volume\n",
              "3919  2020-03-16  1096.000000  1152.266968  ...  1084.329956  1084.329956  4252400\n",
              "3920  2020-03-17  1093.109985  1130.859985  ...  1119.800049  1119.800049  3861500\n",
              "3921  2020-03-18  1056.510010  1106.500000  ...  1096.800049  1096.800049  4233400\n",
              "3922  2020-03-19  1093.050049  1157.969971  ...  1115.290039  1115.290039  3651100\n",
              "3923  2020-03-20  1135.719971  1143.989990  ...  1072.319946  1072.319946  3600300\n",
              "\n",
              "[5 rows x 7 columns]"
            ]
          },
          "metadata": {
            "tags": []
          },
          "execution_count": 5
        }
      ]
    },
    {
      "cell_type": "markdown",
      "metadata": {
        "id": "2-QkS51zrUlW",
        "colab_type": "text"
      },
      "source": [
        "Dropping unnecessary columns which has no uses in prediction"
      ]
    },
    {
      "cell_type": "code",
      "metadata": {
        "id": "HIhl8TvKrBuV",
        "colab_type": "code",
        "colab": {}
      },
      "source": [
        "training = data_training.drop(['Date', 'Adj Close'], axis=1)"
      ],
      "execution_count": 0,
      "outputs": []
    },
    {
      "cell_type": "markdown",
      "metadata": {
        "id": "T_jSkohurdQ0",
        "colab_type": "text"
      },
      "source": [
        "Converting data to Scaler"
      ]
    },
    {
      "cell_type": "code",
      "metadata": {
        "id": "tt182hQXrTh1",
        "colab_type": "code",
        "colab": {
          "base_uri": "https://localhost:8080/",
          "height": 248
        },
        "outputId": "48d301e6-ac4e-44d5-f805-a2eba4262adb"
      },
      "source": [
        "scaler = MinMaxScaler()\n",
        "training = scaler.fit_transform(training)\n",
        "training"
      ],
      "execution_count": 7,
      "outputs": [
        {
          "output_type": "execute_result",
          "data": {
            "text/plain": [
              "array([[3.29485734e-04, 9.33053728e-04, 0.00000000e+00, 1.32809895e-04,\n",
              "        5.43577404e-01],\n",
              "       [7.40330113e-04, 2.95198254e-03, 1.85599897e-03, 3.34030536e-03,\n",
              "        2.77885613e-01],\n",
              "       [4.70232083e-03, 4.72156249e-03, 5.35132373e-03, 3.77897219e-03,\n",
              "        2.22150736e-01],\n",
              "       ...,\n",
              "       [9.08303987e-01, 9.08888351e-01, 9.10549436e-01, 9.05830066e-01,\n",
              "        9.62153596e-03],\n",
              "       [9.24154215e-01, 9.24745103e-01, 9.30098110e-01, 9.23466705e-01,\n",
              "        1.30916378e-02],\n",
              "       [9.38346722e-01, 9.26715038e-01, 9.32299994e-01, 9.19629133e-01,\n",
              "        1.35932517e-02]])"
            ]
          },
          "metadata": {
            "tags": []
          },
          "execution_count": 7
        }
      ]
    },
    {
      "cell_type": "markdown",
      "metadata": {
        "id": "chLhkZ5arwqH",
        "colab_type": "text"
      },
      "source": [
        "Splitting the data into Train and Test"
      ]
    },
    {
      "cell_type": "code",
      "metadata": {
        "id": "YJiO3IearnGf",
        "colab_type": "code",
        "colab": {}
      },
      "source": [
        "X_train = []\n",
        "y_train = []"
      ],
      "execution_count": 0,
      "outputs": []
    },
    {
      "cell_type": "code",
      "metadata": {
        "id": "H5REARUCr4Ah",
        "colab_type": "code",
        "colab": {}
      },
      "source": [
        "for i in range(60, training.shape[0]):\n",
        "    X_train.append(training[i-60:i])\n",
        "    y_train.append(training[i, 0])"
      ],
      "execution_count": 0,
      "outputs": []
    },
    {
      "cell_type": "code",
      "metadata": {
        "id": "mtknOpIXsg6d",
        "colab_type": "code",
        "colab": {}
      },
      "source": [
        "X_train, y_train = np.array(X_train), np.array(y_train)"
      ],
      "execution_count": 0,
      "outputs": []
    },
    {
      "cell_type": "code",
      "metadata": {
        "id": "jqwAKEFdsmrA",
        "colab_type": "code",
        "colab": {
          "base_uri": "https://localhost:8080/",
          "height": 35
        },
        "outputId": "af99ac1c-ea22-44db-a3ef-29443c060efb"
      },
      "source": [
        "X_train.shape"
      ],
      "execution_count": 11,
      "outputs": [
        {
          "output_type": "execute_result",
          "data": {
            "text/plain": [
              "(3725, 60, 5)"
            ]
          },
          "metadata": {
            "tags": []
          },
          "execution_count": 11
        }
      ]
    },
    {
      "cell_type": "markdown",
      "metadata": {
        "id": "BkgNdwttsuFP",
        "colab_type": "text"
      },
      "source": [
        "# Building RNN network \n",
        "## LSTM"
      ]
    },
    {
      "cell_type": "code",
      "metadata": {
        "id": "kgy_k9FSso_h",
        "colab_type": "code",
        "colab": {}
      },
      "source": [
        "regressior = Sequential()\n",
        "regressior.add(LSTM(units=60, activation='relu', return_sequences=True,\n",
        "                    input_shape = (X_train.shape[1], 5)))\n",
        "regressior.add(Dropout(0.2))\n",
        "\n",
        "regressior.add(LSTM(units=50, activation='relu', return_sequences=True))\n",
        "regressior.add(Dropout(0.2))\n",
        "\n",
        "regressior.add(LSTM(units=80, activation='relu', return_sequences=True))\n",
        "regressior.add(Dropout(0.3))\n",
        "\n",
        "regressior.add(LSTM(units=120, activation='relu'))\n",
        "regressior.add(Dropout(0.2))\n",
        "\n",
        "regressior.add(Dense(units=1))"
      ],
      "execution_count": 0,
      "outputs": []
    },
    {
      "cell_type": "code",
      "metadata": {
        "id": "EadxJKu6tlwh",
        "colab_type": "code",
        "colab": {
          "base_uri": "https://localhost:8080/",
          "height": 479
        },
        "outputId": "2d5635a6-6174-443c-9cee-c39dd38d815e"
      },
      "source": [
        "regressior.summary()"
      ],
      "execution_count": 13,
      "outputs": [
        {
          "output_type": "stream",
          "text": [
            "Model: \"sequential\"\n",
            "_________________________________________________________________\n",
            "Layer (type)                 Output Shape              Param #   \n",
            "=================================================================\n",
            "lstm (LSTM)                  (None, 60, 60)            15840     \n",
            "_________________________________________________________________\n",
            "dropout (Dropout)            (None, 60, 60)            0         \n",
            "_________________________________________________________________\n",
            "lstm_1 (LSTM)                (None, 60, 50)            22200     \n",
            "_________________________________________________________________\n",
            "dropout_1 (Dropout)          (None, 60, 50)            0         \n",
            "_________________________________________________________________\n",
            "lstm_2 (LSTM)                (None, 60, 80)            41920     \n",
            "_________________________________________________________________\n",
            "dropout_2 (Dropout)          (None, 60, 80)            0         \n",
            "_________________________________________________________________\n",
            "lstm_3 (LSTM)                (None, 120)               96480     \n",
            "_________________________________________________________________\n",
            "dropout_3 (Dropout)          (None, 120)               0         \n",
            "_________________________________________________________________\n",
            "dense (Dense)                (None, 1)                 121       \n",
            "=================================================================\n",
            "Total params: 176,561\n",
            "Trainable params: 176,561\n",
            "Non-trainable params: 0\n",
            "_________________________________________________________________\n"
          ],
          "name": "stdout"
        }
      ]
    },
    {
      "cell_type": "code",
      "metadata": {
        "id": "dzNn1E2GtoDG",
        "colab_type": "code",
        "colab": {}
      },
      "source": [
        "regressior.compile(optimizer='adam', loss='mean_squared_error')"
      ],
      "execution_count": 0,
      "outputs": []
    },
    {
      "cell_type": "code",
      "metadata": {
        "id": "fYooMq4mtw9l",
        "colab_type": "code",
        "colab": {
          "base_uri": "https://localhost:8080/",
          "height": 764
        },
        "outputId": "43754268-7c89-4543-b341-62705e5c0dca"
      },
      "source": [
        "regressior.fit(X_train, y_train, epochs=20, batch_size=32)"
      ],
      "execution_count": 15,
      "outputs": [
        {
          "output_type": "stream",
          "text": [
            "Train on 3725 samples\n",
            "Epoch 1/20\n",
            "3725/3725 [==============================] - 28s 7ms/sample - loss: 0.0116\n",
            "Epoch 2/20\n",
            "3725/3725 [==============================] - 23s 6ms/sample - loss: 0.0023\n",
            "Epoch 3/20\n",
            "3725/3725 [==============================] - 23s 6ms/sample - loss: 0.0019\n",
            "Epoch 4/20\n",
            "3725/3725 [==============================] - 24s 6ms/sample - loss: 0.0021\n",
            "Epoch 5/20\n",
            "3725/3725 [==============================] - 24s 6ms/sample - loss: 0.0017\n",
            "Epoch 6/20\n",
            "3725/3725 [==============================] - 23s 6ms/sample - loss: 0.0016\n",
            "Epoch 7/20\n",
            "3725/3725 [==============================] - 23s 6ms/sample - loss: 0.0017\n",
            "Epoch 8/20\n",
            "3725/3725 [==============================] - 23s 6ms/sample - loss: 0.0017\n",
            "Epoch 9/20\n",
            "3725/3725 [==============================] - 23s 6ms/sample - loss: 0.0014\n",
            "Epoch 10/20\n",
            "3725/3725 [==============================] - 23s 6ms/sample - loss: 0.0014\n",
            "Epoch 11/20\n",
            "3725/3725 [==============================] - 23s 6ms/sample - loss: 0.0016\n",
            "Epoch 12/20\n",
            "3725/3725 [==============================] - 23s 6ms/sample - loss: 0.0014\n",
            "Epoch 13/20\n",
            "3725/3725 [==============================] - 23s 6ms/sample - loss: 0.0013\n",
            "Epoch 14/20\n",
            "3725/3725 [==============================] - 23s 6ms/sample - loss: 0.0013\n",
            "Epoch 15/20\n",
            "3725/3725 [==============================] - 23s 6ms/sample - loss: 0.0013\n",
            "Epoch 16/20\n",
            "3725/3725 [==============================] - 23s 6ms/sample - loss: 0.0012\n",
            "Epoch 17/20\n",
            "3725/3725 [==============================] - 23s 6ms/sample - loss: 0.0012\n",
            "Epoch 18/20\n",
            "3725/3725 [==============================] - 23s 6ms/sample - loss: 0.0012\n",
            "Epoch 19/20\n",
            "3725/3725 [==============================] - 23s 6ms/sample - loss: 0.0011\n",
            "Epoch 20/20\n",
            "3725/3725 [==============================] - 23s 6ms/sample - loss: 9.4689e-04\n"
          ],
          "name": "stdout"
        },
        {
          "output_type": "execute_result",
          "data": {
            "text/plain": [
              "<tensorflow.python.keras.callbacks.History at 0x7fcf10597128>"
            ]
          },
          "metadata": {
            "tags": []
          },
          "execution_count": 15
        }
      ]
    },
    {
      "cell_type": "code",
      "metadata": {
        "id": "5deKXa1ot3QD",
        "colab_type": "code",
        "colab": {}
      },
      "source": [
        "past_60_days = data_training.tail(60)"
      ],
      "execution_count": 0,
      "outputs": []
    },
    {
      "cell_type": "code",
      "metadata": {
        "id": "luhxvfvQvXjQ",
        "colab_type": "code",
        "colab": {
          "base_uri": "https://localhost:8080/",
          "height": 424
        },
        "outputId": "38458b4d-0da9-47a3-b68d-209b57613dc6"
      },
      "source": [
        "df = past_60_days.append(data_testing, ignore_index=True)\n",
        "df = df.drop(['Date', 'Adj Close'], axis=1)\n",
        "df"
      ],
      "execution_count": 17,
      "outputs": [
        {
          "output_type": "execute_result",
          "data": {
            "text/html": [
              "<div>\n",
              "<style scoped>\n",
              "    .dataframe tbody tr th:only-of-type {\n",
              "        vertical-align: middle;\n",
              "    }\n",
              "\n",
              "    .dataframe tbody tr th {\n",
              "        vertical-align: top;\n",
              "    }\n",
              "\n",
              "    .dataframe thead th {\n",
              "        text-align: right;\n",
              "    }\n",
              "</style>\n",
              "<table border=\"1\" class=\"dataframe\">\n",
              "  <thead>\n",
              "    <tr style=\"text-align: right;\">\n",
              "      <th></th>\n",
              "      <th>Open</th>\n",
              "      <th>High</th>\n",
              "      <th>Low</th>\n",
              "      <th>Close</th>\n",
              "      <th>Volume</th>\n",
              "    </tr>\n",
              "  </thead>\n",
              "  <tbody>\n",
              "    <tr>\n",
              "      <th>0</th>\n",
              "      <td>1050.630005</td>\n",
              "      <td>1070.920044</td>\n",
              "      <td>1048.400024</td>\n",
              "      <td>1066.040039</td>\n",
              "      <td>1802400</td>\n",
              "    </tr>\n",
              "    <tr>\n",
              "      <th>1</th>\n",
              "      <td>1072.979980</td>\n",
              "      <td>1092.660034</td>\n",
              "      <td>1072.322021</td>\n",
              "      <td>1080.380005</td>\n",
              "      <td>1464200</td>\n",
              "    </tr>\n",
              "    <tr>\n",
              "      <th>2</th>\n",
              "      <td>1093.979980</td>\n",
              "      <td>1101.989990</td>\n",
              "      <td>1077.603027</td>\n",
              "      <td>1078.719971</td>\n",
              "      <td>1436700</td>\n",
              "    </tr>\n",
              "    <tr>\n",
              "      <th>3</th>\n",
              "      <td>1078.000000</td>\n",
              "      <td>1080.930054</td>\n",
              "      <td>1067.540039</td>\n",
              "      <td>1077.030029</td>\n",
              "      <td>1061000</td>\n",
              "    </tr>\n",
              "    <tr>\n",
              "      <th>4</th>\n",
              "      <td>1083.640015</td>\n",
              "      <td>1094.170044</td>\n",
              "      <td>1080.150024</td>\n",
              "      <td>1088.770020</td>\n",
              "      <td>1057700</td>\n",
              "    </tr>\n",
              "    <tr>\n",
              "      <th>...</th>\n",
              "      <td>...</td>\n",
              "      <td>...</td>\n",
              "      <td>...</td>\n",
              "      <td>...</td>\n",
              "      <td>...</td>\n",
              "    </tr>\n",
              "    <tr>\n",
              "      <th>194</th>\n",
              "      <td>1096.000000</td>\n",
              "      <td>1152.266968</td>\n",
              "      <td>1074.439941</td>\n",
              "      <td>1084.329956</td>\n",
              "      <td>4252400</td>\n",
              "    </tr>\n",
              "    <tr>\n",
              "      <th>195</th>\n",
              "      <td>1093.109985</td>\n",
              "      <td>1130.859985</td>\n",
              "      <td>1056.010010</td>\n",
              "      <td>1119.800049</td>\n",
              "      <td>3861500</td>\n",
              "    </tr>\n",
              "    <tr>\n",
              "      <th>196</th>\n",
              "      <td>1056.510010</td>\n",
              "      <td>1106.500000</td>\n",
              "      <td>1037.280029</td>\n",
              "      <td>1096.800049</td>\n",
              "      <td>4233400</td>\n",
              "    </tr>\n",
              "    <tr>\n",
              "      <th>197</th>\n",
              "      <td>1093.050049</td>\n",
              "      <td>1157.969971</td>\n",
              "      <td>1060.108032</td>\n",
              "      <td>1115.290039</td>\n",
              "      <td>3651100</td>\n",
              "    </tr>\n",
              "    <tr>\n",
              "      <th>198</th>\n",
              "      <td>1135.719971</td>\n",
              "      <td>1143.989990</td>\n",
              "      <td>1065.489990</td>\n",
              "      <td>1072.319946</td>\n",
              "      <td>3600300</td>\n",
              "    </tr>\n",
              "  </tbody>\n",
              "</table>\n",
              "<p>199 rows × 5 columns</p>\n",
              "</div>"
            ],
            "text/plain": [
              "            Open         High          Low        Close   Volume\n",
              "0    1050.630005  1070.920044  1048.400024  1066.040039  1802400\n",
              "1    1072.979980  1092.660034  1072.322021  1080.380005  1464200\n",
              "2    1093.979980  1101.989990  1077.603027  1078.719971  1436700\n",
              "3    1078.000000  1080.930054  1067.540039  1077.030029  1061000\n",
              "4    1083.640015  1094.170044  1080.150024  1088.770020  1057700\n",
              "..           ...          ...          ...          ...      ...\n",
              "194  1096.000000  1152.266968  1074.439941  1084.329956  4252400\n",
              "195  1093.109985  1130.859985  1056.010010  1119.800049  3861500\n",
              "196  1056.510010  1106.500000  1037.280029  1096.800049  4233400\n",
              "197  1093.050049  1157.969971  1060.108032  1115.290039  3651100\n",
              "198  1135.719971  1143.989990  1065.489990  1072.319946  3600300\n",
              "\n",
              "[199 rows x 5 columns]"
            ]
          },
          "metadata": {
            "tags": []
          },
          "execution_count": 17
        }
      ]
    },
    {
      "cell_type": "code",
      "metadata": {
        "id": "DRlmuZaayBaa",
        "colab_type": "code",
        "colab": {
          "base_uri": "https://localhost:8080/",
          "height": 1000
        },
        "outputId": "2fb45d97-241e-47ff-fc63-f07cf8f8d515"
      },
      "source": [
        "inputs = scaler.transform(df)\n",
        "inputs"
      ],
      "execution_count": 18,
      "outputs": [
        {
          "output_type": "execute_result",
          "data": {
            "text/plain": [
              "array([[0.81759613, 0.82371085, 0.82117681, 0.82101569, 0.02174266],\n",
              "       [0.83584711, 0.84126306, 0.84080924, 0.8326011 , 0.01764493],\n",
              "       [0.8529957 , 0.84879578, 0.84514328, 0.83125994, 0.01731174],\n",
              "       [0.83994646, 0.83179263, 0.83688474, 0.82989462, 0.01275965],\n",
              "       [0.84455209, 0.84248219, 0.84723356, 0.83937947, 0.01271967],\n",
              "       [0.84682226, 0.8412872 , 0.8472516 , 0.83661638, 0.01337152],\n",
              "       [0.84670793, 0.84652712, 0.85226437, 0.84239296, 0.01131297],\n",
              "       [0.86582445, 0.86042193, 0.86269524, 0.85136074, 0.01670592],\n",
              "       [0.86248459, 0.85284071, 0.85817326, 0.85033468, 0.01612555],\n",
              "       [0.87423547, 0.8634334 , 0.86741418, 0.85767865, 0.01519502],\n",
              "       [0.86545702, 0.8666548 , 0.87015524, 0.86612936, 0.02350194],\n",
              "       [0.87392516, 0.86495126, 0.87255989, 0.86099106, 0.01681376],\n",
              "       [0.86824983, 0.85877486, 0.85022908, 0.83742429, 0.01864695],\n",
              "       [0.84688755, 0.84151329, 0.84074192, 0.83213254, 0.02184565],\n",
              "       [0.84484606, 0.83677404, 0.84324505, 0.82907053, 0.01207266],\n",
              "       [0.83863174, 0.8318491 , 0.84166929, 0.83302931, 0.02041956],\n",
              "       [0.85627845, 0.85330895, 0.85835629, 0.84679603, 0.01730689],\n",
              "       [0.85974083, 0.85669188, 0.86202232, 0.85754127, 0.01191878],\n",
              "       [0.87212868, 0.86879434, 0.87489882, 0.86588695, 0.00919747],\n",
              "       [0.87244717, 0.87373544, 0.87677001, 0.87397413, 0.01522289],\n",
              "       [0.8784655 , 0.86816457, 0.87272399, 0.86166159, 0.01488485],\n",
              "       [0.86754757, 0.86981568, 0.86940849, 0.86851265, 0.01602378],\n",
              "       [0.88340587, 0.88113906, 0.88894073, 0.88115646, 0.01455892],\n",
              "       [0.89322959, 0.89003619, 0.89600682, 0.88416995, 0.01438929],\n",
              "       [0.89383386, 0.88540998, 0.89535033, 0.88472746, 0.01037275],\n",
              "       [0.8961775 , 0.88821961, 0.89585915, 0.88912244, 0.01085497],\n",
              "       [0.89547524, 0.8944848 , 0.90045497, 0.89174006, 0.01491393],\n",
              "       [0.89953371, 0.89430721, 0.90108691, 0.88589889, 0.01408033],\n",
              "       [0.89199651, 0.88562394, 0.89038515, 0.88588272, 0.01555003],\n",
              "       [0.89726354, 0.88847802, 0.88783283, 0.87277036, 0.01986221],\n",
              "       [0.88522687, 0.87887838, 0.88341754, 0.87920937, 0.01567362],\n",
              "       [0.89384204, 0.88505478, 0.88962197, 0.88578577, 0.01315585],\n",
              "       [0.8839612 , 0.88271339, 0.88567442, 0.87899941, 0.01916674],\n",
              "       [0.88879541, 0.8808564 , 0.88069291, 0.87440235, 0.02667883],\n",
              "       [0.95920271, 0.98084921, 0.96528909, 0.96997005, 0.05813269],\n",
              "       [0.97309308, 0.96617119, 0.96876057, 0.96108304, 0.02684725],\n",
              "       [0.96032145, 0.95607907, 0.96471465, 0.94955415, 0.01751287],\n",
              "       [0.95835341, 0.95537666, 0.95196448, 0.94271926, 0.02081092],\n",
              "       [0.95102854, 0.95546546, 0.95028694, 0.93652256, 0.02048378],\n",
              "       [0.9401759 , 0.93349696, 0.93651582, 0.92438773, 0.01983677],\n",
              "       [0.91510633, 0.90793561, 0.89646645, 0.89072209, 0.03137631],\n",
              "       [0.90961063, 0.91174637, 0.91276525, 0.90496555, 0.02061585],\n",
              "       [0.90364123, 0.9105232 , 0.90424984, 0.90822953, 0.01740382],\n",
              "       [0.92555057, 0.93197102, 0.92345058, 0.93312129, 0.01769098],\n",
              "       [0.93793025, 0.93105869, 0.9321359 , 0.91955645, 0.0128166 ],\n",
              "       [0.92259448, 0.91578322, 0.91906154, 0.90881121, 0.01205691],\n",
              "       [0.91626583, 0.93178534, 0.92217026, 0.9270377 , 0.01558759],\n",
              "       [0.92022642, 0.91363569, 0.91320845, 0.90039285, 0.01903225],\n",
              "       [0.90976573, 0.90842001, 0.91449688, 0.90279232, 0.01467039],\n",
              "       [0.9228722 , 0.91397472, 0.92245758, 0.91114608, 0.01581659],\n",
              "       [0.93147909, 0.9335696 , 0.93745963, 0.92799098, 0.01482669],\n",
              "       [0.93569277, 0.9247451 , 0.93091058, 0.91525831, 0.01099673],\n",
              "       [0.93397793, 0.92711872, 0.93527668, 0.92217407, 0.00887881],\n",
              "       [0.93472914, 0.92632101, 0.92801354, 0.92078449, 0.01138445],\n",
              "       [0.92486465, 0.92314643, 0.90271185, 0.88989002, 0.02034444],\n",
              "       [0.90467016, 0.90327707, 0.90698759, 0.90410921, 0.01476005],\n",
              "       [0.92367245, 0.91371641, 0.9139552 , 0.90326087, 0.01295594],\n",
              "       [0.90830399, 0.90888835, 0.91054944, 0.90583007, 0.00962154],\n",
              "       [0.92415421, 0.9247451 , 0.93009811, 0.92346671, 0.01309164],\n",
              "       [0.93834672, 0.92671504, 0.93229999, 0.91962913, 0.01359325],\n",
              "       [0.92081435, 0.91734149, 0.9153914 , 0.90370526, 0.01783516],\n",
              "       [0.92055298, 0.91458833, 0.92179278, 0.91422426, 0.01285537],\n",
              "       [0.93265505, 0.93845422, 0.93864147, 0.9384373 , 0.01696521],\n",
              "       [0.94621058, 0.93762665, 0.94766239, 0.93322632, 0.01289414],\n",
              "       [0.94283802, 0.94407349, 0.93953599, 0.93280619, 0.01773823],\n",
              "       [0.93561113, 0.93599979, 0.9411445 , 0.93409074, 0.015172  ],\n",
              "       [0.94235625, 0.94617263, 0.94739811, 0.94553886, 0.01574026],\n",
              "       [0.95941503, 0.96172258, 0.96448483, 0.9569142 , 0.02081576],\n",
              "       [0.965172  , 0.96093137, 0.96775936, 0.96120425, 0.0156724 ],\n",
              "       [0.96367766, 0.95986568, 0.96661038, 0.9545309 , 0.01266636],\n",
              "       [0.96439627, 0.95618403, 0.96503463, 0.95279388, 0.01147654],\n",
              "       [0.96203629, 0.95667651, 0.9591586 , 0.95542767, 0.01365747],\n",
              "       [0.96575186, 0.96380555, 0.971871  , 0.96051744, 0.01197209],\n",
              "       [0.9666174 , 0.9629013 , 0.96453402, 0.95342407, 0.02740823],\n",
              "       [0.96080321, 0.95948615, 0.96542864, 0.95673648, 0.01277661],\n",
              "       [0.97223561, 0.96566254, 0.95435761, 0.94439968, 0.01908677],\n",
              "       [0.95249018, 0.96692209, 0.95387333, 0.96682727, 0.01750923],\n",
              "       [0.97383611, 0.96425773, 0.97207447, 0.96268269, 0.01853912],\n",
              "       [0.97469358, 0.96346652, 0.95745151, 0.94951371, 0.01630851],\n",
              "       [0.95669569, 0.9489177 , 0.95568711, 0.94459357, 0.01691675],\n",
              "       [0.95508702, 0.95314023, 0.94853066, 0.9333636 , 0.01533436],\n",
              "       [0.93710547, 0.92548782, 0.92203081, 0.91036243, 0.01947328],\n",
              "       [0.92323963, 0.91909352, 0.91475955, 0.91941098, 0.01954719],\n",
              "       [0.93294901, 0.93716235, 0.93670466, 0.93651447, 0.01398824],\n",
              "       [0.94316468, 0.94262343, 0.94867022, 0.93544807, 0.01011709],\n",
              "       [0.93760359, 0.93283486, 0.93657333, 0.9204613 , 0.01249673],\n",
              "       [0.93904081, 0.93466761, 0.94364763, 0.9311096 , 0.01041758],\n",
              "       [0.93841201, 0.94003664, 0.9434096 , 0.9362479 , 0.01016192],\n",
              "       [0.95770827, 0.95084733, 0.95686885, 0.94172545, 0.01532467],\n",
              "       [0.94964843, 0.9491841 , 0.95524391, 0.94309087, 0.01041515],\n",
              "       [0.95623028, 0.96613886, 0.96233464, 0.9639915 , 0.01664534],\n",
              "       [0.97319107, 0.9721215 , 0.97714795, 0.96450048, 0.01316676],\n",
              "       [0.98116109, 0.97905274, 0.98657761, 0.97211902, 0.01144382],\n",
              "       [0.98322701, 0.97547211, 0.97930635, 0.9659951 , 0.01629518],\n",
              "       [0.98224713, 0.97203191, 0.97891244, 0.96652835, 0.01235012],\n",
              "       [0.9786459 , 0.96877898, 0.9795526 , 0.96382187, 0.01230893],\n",
              "       [0.97416277, 0.97627947, 0.98035685, 0.977015  , 0.01094827],\n",
              "       [0.98930256, 0.97959775, 0.98967572, 0.9785177 , 0.01236103],\n",
              "       [0.98124273, 0.984119  , 0.98663512, 0.98186246, 0.01460254],\n",
              "       [1.00118403, 1.00810602, 1.00512517, 1.00195518, 0.03156654],\n",
              "       [1.001821  , 0.99379936, 0.99254571, 0.9798346 , 0.02276043],\n",
              "       [0.98282688, 0.98392524, 0.98826827, 0.97876011, 0.0169749 ],\n",
              "       [0.98961288, 0.98256083, 0.98731875, 0.97780674, 0.01754195],\n",
              "       [0.9926506 , 0.98817201, 0.99524409, 0.98881855, 0.02013968],\n",
              "       [1.00200063, 1.0039238 , 1.00825604, 1.00306201, 0.01809081],\n",
              "       [1.01542558, 1.00779922, 1.02046293, 1.00359526, 0.01544583],\n",
              "       [1.0126246 , 1.00360084, 1.01329917, 1.00340946, 0.01387071],\n",
              "       [1.01656067, 1.02783001, 1.02293811, 1.01719235, 0.02450032],\n",
              "       [1.02554326, 1.02319571, 1.03124344, 1.01922021, 0.01506659],\n",
              "       [1.02382842, 1.01385045, 1.02553561, 1.00937982, 0.01216474],\n",
              "       [1.02123159, 1.01673676, 1.02418967, 1.00906482, 0.01306135],\n",
              "       [1.01638911, 1.01213479, 1.02233492, 1.00841846, 0.00992081],\n",
              "       [1.01919009, 1.02238835, 1.02409119, 1.01929289, 0.01436506],\n",
              "       [1.03669794, 1.03682412, 1.03938056, 1.03820609, 0.02150276],\n",
              "       [1.04754241, 1.03734814, 1.04202314, 1.02675797, 0.01792603],\n",
              "       [1.04385136, 1.03102716, 1.03816596, 1.02252453, 0.01528226],\n",
              "       [1.03081846, 1.02077361, 1.02039811, 1.01249844, 0.01575964],\n",
              "       [1.02244014, 1.01882782, 1.02191636, 1.01112494, 0.01196604],\n",
              "       [1.02582088, 1.01571138, 1.0206115 , 1.00626939, 0.01669381],\n",
              "       [1.02056202, 1.01779446, 1.02612648, 1.01543915, 0.01245917],\n",
              "       [1.02928325, 1.02061217, 1.03183841, 1.0209815 , 0.01286506],\n",
              "       [1.03348059, 1.02348636, 1.03556436, 1.02052902, 0.01196725],\n",
              "       [1.02704578, 1.01690223, 1.03091925, 1.01404148, 0.00701654],\n",
              "       [1.02204819, 1.01336999, 1.01206814, 1.00189058, 0.01821077],\n",
              "       [1.00454842, 1.00742057, 1.01042677, 1.00622097, 0.01376288],\n",
              "       [1.02695596, 1.02949324, 1.03165789, 1.02662878, 0.01853306],\n",
              "       [1.04409638, 1.03236585, 1.04115317, 1.03276079, 0.01459769],\n",
              "       [1.04853864, 1.04418733, 1.05510481, 1.04285158, 0.01583476],\n",
              "       [1.05229508, 1.05666115, 1.05871585, 1.04522688, 0.01631336],\n",
              "       [1.05512048, 1.04901134, 1.05723868, 1.04611556, 0.0131607 ],\n",
              "       [1.06274749, 1.05000035, 1.06267982, 1.0464064 , 0.01020796],\n",
              "       [1.05874613, 1.05369412, 1.0608989 , 1.05064793, 0.01542523],\n",
              "       [1.06038751, 1.05152875, 1.0636646 , 1.04867658, 0.01867967],\n",
              "       [1.06736948, 1.06088378, 1.07088667, 1.05945417, 0.01683436],\n",
              "       [1.07258756, 1.06114209, 1.06978117, 1.05456627, 0.02236786],\n",
              "       [1.06745112, 1.05748468, 1.06951609, 1.0525465 , 0.01835253],\n",
              "       [1.06354775, 1.05557122, 1.0678624 , 1.05530958, 0.017714  ],\n",
              "       [1.07296316, 1.06004408, 1.06787472, 1.0500985 , 0.04006974],\n",
              "       [1.06685501, 1.05694381, 1.06583122, 1.04949257, 0.01060417],\n",
              "       [1.06083668, 1.04924147, 1.06277008, 1.04522688, 0.00411469],\n",
              "       [1.05893404, 1.05817664, 1.06415699, 1.05883206, 0.0079919 ],\n",
              "       [1.0726692 , 1.06076265, 1.06812918, 1.05195674, 0.01248582],\n",
              "       [1.06206158, 1.05145365, 1.05558088, 1.03923216, 0.01263728],\n",
              "       [1.0458194 , 1.03934311, 1.05153075, 1.03994312, 0.01155772],\n",
              "       [1.05516135, 1.06367724, 1.06176066, 1.06446317, 0.01694704],\n",
              "       [1.06031404, 1.06719736, 1.06503839, 1.05904212, 0.01427903],\n",
              "       [1.06206158, 1.08657423, 1.06869541, 1.08614744, 0.02089331],\n",
              "       [1.10120932, 1.09181406, 1.10183467, 1.08544457, 0.01811141],\n",
              "       [1.09642406, 1.09874933, 1.10221216, 1.0943154 , 0.01841795],\n",
              "       [1.11968898, 1.11146541, 1.11815811, 1.10684609, 0.0180896 ],\n",
              "       [1.1253971 , 1.11760061, 1.12478921, 1.11484442, 0.02196439],\n",
              "       [1.13239531, 1.12211466, 1.1310839 , 1.12251957, 0.01992401],\n",
              "       [1.13474713, 1.12314812, 1.13301249, 1.11577354, 0.01879235],\n",
              "       [1.12756101, 1.12282111, 1.13452252, 1.1224953 , 0.01544583],\n",
              "       [1.14163101, 1.13137517, 1.14331213, 1.13259418, 0.01412516],\n",
              "       [1.15426388, 1.15503518, 1.15750992, 1.15577317, 0.02893731],\n",
              "       [1.16750093, 1.16355691, 1.1681624 , 1.15901289, 0.0245815 ],\n",
              "       [1.17720214, 1.17273187, 1.17943049, 1.1602651 , 0.01942118],\n",
              "       [1.17445837, 1.16652   , 1.17710788, 1.16083069, 0.0162758 ],\n",
              "       [1.1793171 , 1.16649979, 1.16327936, 1.14472092, 0.02152699],\n",
              "       [1.12820615, 1.12013655, 1.12712814, 1.11821344, 0.02117077],\n",
              "       [1.13800535, 1.13461273, 1.13637728, 1.13328907, 0.0190165 ],\n",
              "       [1.15090767, 1.14222627, 1.14808847, 1.13819304, 0.01296199],\n",
              "       [1.13552286, 1.13564619, 1.13960262, 1.13593894, 0.01613282],\n",
              "       [1.1591553 , 1.14602087, 1.13314383, 1.11848002, 0.02919175],\n",
              "       [1.15352075, 1.1620633 , 1.15814186, 1.16025701, 0.03692193],\n",
              "       [1.14949486, 1.14551222, 1.13131372, 1.12885355, 0.0475576 ],\n",
              "       [1.15386375, 1.14094248, 1.13480984, 1.12979076, 0.02396963],\n",
              "       [1.14399099, 1.15560434, 1.15041097, 1.15241223, 0.02025236],\n",
              "       [1.15784876, 1.15870461, 1.16418209, 1.15483596, 0.01410819],\n",
              "       [1.16358121, 1.17780701, 1.17072293, 1.17862897, 0.01710818],\n",
              "       [1.19419562, 1.19405936, 1.19642514, 1.17871783, 0.01619583],\n",
              "       [1.19637588, 1.18684547, 1.19845391, 1.1863768 , 0.01405125],\n",
              "       [1.19491414, 1.19208135, 1.1955733 , 1.18346026, 0.01116636],\n",
              "       [1.19729047, 1.18688184, 1.19782197, 1.18837231, 0.01441716],\n",
              "       [1.19680053, 1.1956741 , 1.20213056, 1.18750789, 0.01348299],\n",
              "       [1.20502364, 1.19605837, 1.20936085, 1.19317934, 0.01140626],\n",
              "       [1.20251673, 1.19406745, 1.19739519, 1.18627986, 0.01319099],\n",
              "       [1.19110885, 1.17999899, 1.17574552, 1.15958648, 0.02088604],\n",
              "       [1.12421297, 1.11924846, 1.11907728, 1.10826802, 0.03464286],\n",
              "       [1.12983935, 1.12019312, 1.09528562, 1.08149387, 0.02993205],\n",
              "       [1.0997395 , 1.10207569, 1.09249527, 1.08531537, 0.02658917],\n",
              "       [1.07190982, 1.06655468, 1.04175235, 1.02464934, 0.03599019],\n",
              "       [1.0028581 , 1.04187826, 1.00386129, 1.04180934, 0.04583224],\n",
              "       [1.06337629, 1.08202874, 1.04966778, 1.08202712, 0.02936501],\n",
              "       [1.10241797, 1.09759485, 1.05392308, 1.04347368, 0.02901121],\n",
              "       [1.06959878, 1.07978423, 1.06304087, 1.07993466, 0.02308636],\n",
              "       [1.06222486, 1.05622524, 1.03184663, 1.02541691, 0.0309377 ],\n",
              "       [1.00249884, 1.01368488, 0.99569551, 1.00874973, 0.03214085],\n",
              "       [0.94389964, 0.97213766, 0.94559265, 0.94181441, 0.0406804 ],\n",
              "       [0.9885676 , 0.99344416, 0.96099692, 0.99419118, 0.03154473],\n",
              "       [0.98015659, 0.97714332, 0.94236731, 0.9416932 , 0.03150959],\n",
              "       [0.87914324, 0.92297691, 0.87443929, 0.86049825, 0.05111615],\n",
              "       [0.92242303, 0.94387973, 0.8775931 , 0.94518333, 0.04473572],\n",
              "       [0.85464525, 0.88938789, 0.84254738, 0.8357923 , 0.05142754],\n",
              "       [0.85228527, 0.87210454, 0.82742221, 0.86444894, 0.04669129],\n",
              "       [0.82239774, 0.85243703, 0.8120508 , 0.84586701, 0.05119733],\n",
              "       [0.85223632, 0.89399232, 0.8307854 , 0.86080526, 0.04414202],\n",
              "       [0.88708057, 0.88270531, 0.83520229, 0.82608929, 0.04352652]])"
            ]
          },
          "metadata": {
            "tags": []
          },
          "execution_count": 18
        }
      ]
    },
    {
      "cell_type": "code",
      "metadata": {
        "id": "N5LjQvb1yMyu",
        "colab_type": "code",
        "colab": {}
      },
      "source": [
        "X_test = []\n",
        "y_test = []"
      ],
      "execution_count": 0,
      "outputs": []
    },
    {
      "cell_type": "code",
      "metadata": {
        "id": "XGISio3ZyV4l",
        "colab_type": "code",
        "colab": {}
      },
      "source": [
        "for i in range(60, inputs.shape[0]):\n",
        "    X_test.append(inputs[i-60:i])\n",
        "    y_test.append(inputs[i, 0])"
      ],
      "execution_count": 0,
      "outputs": []
    },
    {
      "cell_type": "code",
      "metadata": {
        "id": "4wS4UoWpyiYX",
        "colab_type": "code",
        "colab": {
          "base_uri": "https://localhost:8080/",
          "height": 35
        },
        "outputId": "ac9fcffd-14f0-4e5f-910d-f50a2e9fa1ff"
      },
      "source": [
        "X_test, y_test = np.array(X_test), np.array(y_test)\n",
        "X_test.shape, y_test.shape"
      ],
      "execution_count": 21,
      "outputs": [
        {
          "output_type": "execute_result",
          "data": {
            "text/plain": [
              "((139, 60, 5), (139,))"
            ]
          },
          "metadata": {
            "tags": []
          },
          "execution_count": 21
        }
      ]
    },
    {
      "cell_type": "code",
      "metadata": {
        "id": "b4mtx3VOy0GN",
        "colab_type": "code",
        "colab": {}
      },
      "source": [
        "y_pred = regressior.predict(X_test)"
      ],
      "execution_count": 0,
      "outputs": []
    },
    {
      "cell_type": "code",
      "metadata": {
        "id": "r8ZfUjT9y97n",
        "colab_type": "code",
        "colab": {
          "base_uri": "https://localhost:8080/",
          "height": 53
        },
        "outputId": "8c74f7fc-0e4c-499d-91db-b745015ef32f"
      },
      "source": [
        "scaler.scale_"
      ],
      "execution_count": 23,
      "outputs": [
        {
          "output_type": "execute_result",
          "data": {
            "text/plain": [
              "array([8.16599709e-04, 8.07369682e-04, 8.20685063e-04, 8.07909963e-04,\n",
              "       1.21162775e-08])"
            ]
          },
          "metadata": {
            "tags": []
          },
          "execution_count": 23
        }
      ]
    },
    {
      "cell_type": "code",
      "metadata": {
        "id": "JGYfpj7c3r61",
        "colab_type": "code",
        "colab": {
          "base_uri": "https://localhost:8080/",
          "height": 35
        },
        "outputId": "7730d8f9-fa79-4ddf-b900-6766f4f95cf2"
      },
      "source": [
        "scale = 1/8.16599709e-04\n",
        "scale"
      ],
      "execution_count": 24,
      "outputs": [
        {
          "output_type": "execute_result",
          "data": {
            "text/plain": [
              "1224.5901988191868"
            ]
          },
          "metadata": {
            "tags": []
          },
          "execution_count": 24
        }
      ]
    },
    {
      "cell_type": "code",
      "metadata": {
        "id": "ak0k7iCi3vkA",
        "colab_type": "code",
        "colab": {}
      },
      "source": [
        "y_pred = y_pred*scale\n",
        "y_test = y_test*scale"
      ],
      "execution_count": 0,
      "outputs": []
    },
    {
      "cell_type": "code",
      "metadata": {
        "id": "IRXxq-eE312D",
        "colab_type": "code",
        "colab": {
          "base_uri": "https://localhost:8080/",
          "height": 350
        },
        "outputId": "f7b43c76-faf3-4e89-ce09-525726e0262a"
      },
      "source": [
        "# Visualising the results\n",
        "plt.figure(figsize=(14,5))\n",
        "plt.plot(y_test, color = 'red', label = 'Real Google Stock Price')\n",
        "plt.plot(y_pred, color = 'blue', label = 'Predicted Google Stock Price')\n",
        "plt.title('Google Stock Price Prediction')\n",
        "plt.xlabel('Time')\n",
        "plt.ylabel('Google Stock Price')\n",
        "plt.legend()\n",
        "plt.show()"
      ],
      "execution_count": 26,
      "outputs": [
        {
          "output_type": "display_data",
          "data": {
            "image/png": "[encoded data removed]",
            "text/plain": [
              "<Figure size 1008x360 with 1 Axes>"
            ]
          },
          "metadata": {
            "tags": []
          }
        }
      ]
    },
    {
      "cell_type": "code",
      "metadata": {
        "id": "T12FVCr633vs",
        "colab_type": "code",
        "colab": {}
      },
      "source": [
        ""
      ],
      "execution_count": 0,
      "outputs": []
    }
  ]
}